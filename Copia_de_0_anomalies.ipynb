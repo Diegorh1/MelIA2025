{
  "nbformat": 4,
  "nbformat_minor": 0,
  "metadata": {
    "colab": {
      "provenance": [],
      "include_colab_link": true
    },
    "kernelspec": {
      "name": "python3",
      "display_name": "Python 3"
    },
    "language_info": {
      "name": "python"
    }
  },
  "cells": [
    {
      "cell_type": "markdown",
      "metadata": {
        "id": "view-in-github",
        "colab_type": "text"
      },
      "source": [
        "<a href=\"https://colab.research.google.com/github/Diegorh1/MelIA2025/blob/main/Copia_de_0_anomalies.ipynb\" target=\"_parent\"><img src=\"https://colab.research.google.com/assets/colab-badge.svg\" alt=\"Open In Colab\"/></a>"
      ]
    },
    {
      "cell_type": "code",
      "source": [
        "# Bibliotecas básicas\n",
        "import pandas as pd\n",
        "import numpy as np\n",
        "import matplotlib.pyplot as plt"
      ],
      "metadata": {
        "id": "QUjEDZA06ndR"
      },
      "execution_count": null,
      "outputs": []
    },
    {
      "cell_type": "code",
      "source": [
        "# Desviación estándar\n",
        "# Conjunto ficticio con distribución normal, notar la 'n' al final\n",
        "np.random.seed(0)\n",
        "data = np.random.randn(50000) * 20 + 20"
      ],
      "metadata": {
        "id": "Mpd4ulb66naM"
      },
      "execution_count": null,
      "outputs": []
    },
    {
      "cell_type": "code",
      "source": [
        "# Anomalías con std\n",
        "#corte =\n",
        "#std =\n",
        "#media =\n",
        "#anom =\n",
        "#len(anom)"
      ],
      "metadata": {
        "id": "iRBqJ3ca6nXl"
      },
      "execution_count": null,
      "outputs": []
    },
    {
      "cell_type": "code",
      "source": [
        "# Prueba de normalidad: histograma, Quantile-quantile graph, Shapiro\n",
        "# Conjunto de datos ficticio normal\n",
        "np.random.seed(42)\n",
        "data = np.random.normal(0,1,100)"
      ],
      "metadata": {
        "id": "AvxdVjLm6nRw"
      },
      "execution_count": null,
      "outputs": []
    },
    {
      "cell_type": "code",
      "source": [
        "# 1. Histograma\n",
        "plt.hist(data, edgecolor='black', linewidth=1)"
      ],
      "metadata": {
        "id": "hLWb4db_Ect8"
      },
      "execution_count": null,
      "outputs": []
    },
    {
      "cell_type": "code",
      "source": [
        "# 2. gráfica de cuantiles\n",
        "import pylab\n",
        "import scipy.stats as stats\n",
        "stats.probplot(data, dist='norm', plot=pylab)\n",
        "pylab.show()"
      ],
      "metadata": {
        "id": "_YIrHS-AFdnr"
      },
      "execution_count": null,
      "outputs": []
    },
    {
      "cell_type": "code",
      "source": [
        "# 3. Prueba de Shapiro\n",
        "from scipy.stats import shapiro\n",
        "estad, p_value = shapiro(data)\n",
        "print('p_value = ',p_value)\n",
        "# p_value > 0.05 => distribución normal"
      ],
      "metadata": {
        "id": "RTaPmZ1GFdk3"
      },
      "execution_count": null,
      "outputs": []
    },
    {
      "cell_type": "code",
      "source": [
        "# Conjunto de datos real\n",
        "cont = pd.read_csv('https://bit.ly/31B56KB')\n",
        "cont.info()"
      ],
      "metadata": {
        "id": "GvwBdE7g6nOl"
      },
      "execution_count": null,
      "outputs": []
    },
    {
      "cell_type": "code",
      "source": [
        "import seaborn as sns\n",
        "sns.pairplot(cont)"
      ],
      "metadata": {
        "id": "qcM2I67x6nL7"
      },
      "execution_count": null,
      "outputs": []
    },
    {
      "cell_type": "code",
      "source": [
        "# Contaminación_SO2\n",
        "# Quartiles\n",
        "stats.probplot(cont.Contaminacion_SO2, dist='norm', plot=pylab)\n",
        "pylab.show()"
      ],
      "metadata": {
        "id": "-8UF9Tdh6nKg"
      },
      "execution_count": null,
      "outputs": []
    },
    {
      "cell_type": "code",
      "source": [
        "# Shapiro\n",
        "estad, p_value = shapiro(cont.Contaminacion_SO2)\n",
        "print('p_value = ', p_value)"
      ],
      "metadata": {
        "id": "7k0c3mE76nJA"
      },
      "execution_count": null,
      "outputs": []
    },
    {
      "cell_type": "code",
      "source": [
        "# Velocidad_viento\n",
        "stats.probplot(cont.Velocidad_viento, dist='norm', plot=pylab)\n",
        "pylab.show()"
      ],
      "metadata": {
        "id": "63BrGz4l6nHX"
      },
      "execution_count": null,
      "outputs": []
    },
    {
      "cell_type": "code",
      "source": [
        "# Shapiro\n",
        "estad, p_value = shapiro(cont.Velocidad_viento)\n",
        "print('p_value = ', p_value)"
      ],
      "metadata": {
        "id": "Ux66bchD6nEW"
      },
      "execution_count": null,
      "outputs": []
    },
    {
      "cell_type": "code",
      "source": [
        "# Diagrama de bigotes para datos con distribución normal\n",
        "data = np.random.randn(50000) * 20 + 20\n",
        "data = pd.DataFrame(data, columns=['random'])\n",
        "data.head(2)"
      ],
      "metadata": {
        "id": "KpPCevCn6m8o"
      },
      "execution_count": null,
      "outputs": []
    },
    {
      "cell_type": "code",
      "source": [
        "import seaborn as sns\n",
        "sns.boxplot(data)"
      ],
      "metadata": {
        "id": "CJgAoHcR6m5I"
      },
      "execution_count": null,
      "outputs": []
    },
    {
      "cell_type": "code",
      "source": [
        "bp = plt.boxplot(x=data)"
      ],
      "metadata": {
        "id": "894Mw3bOPMuh"
      },
      "execution_count": null,
      "outputs": []
    },
    {
      "cell_type": "code",
      "source": [
        "bp['fliers'][0].get_data()[1].shape"
      ],
      "metadata": {
        "id": "zIOBmghMPQzo"
      },
      "execution_count": null,
      "outputs": []
    },
    {
      "cell_type": "code",
      "source": [
        "stocks = pd.read_csv('stocks.csv', header='infer')\n",
        "stocks.index = stocks.Date\n",
        "stocks.drop(['Date'],axis=1, inplace=True)\n",
        "stocks.head(3)"
      ],
      "metadata": {
        "id": "NWsG4Iwj6m-d"
      },
      "execution_count": null,
      "outputs": []
    },
    {
      "cell_type": "code",
      "source": [
        "import matplotlib.pyplot as plt\n",
        "import seaborn as sns\n",
        "fig, ax = plt.subplots(nrows=1, ncols=3, figsize=(11,3))\n",
        "sns.histplot(stocks.MSFT, ax=ax[0], color=\"darkblue\", kde=True)\n",
        "sns.histplot(stocks.F, ax=ax[1], color='green', kde=True)\n",
        "sns.histplot(stocks.BAC, ax=ax[2], color='red', kde=True)"
      ],
      "metadata": {
        "id": "HKVEH7qfh_X1"
      },
      "execution_count": null,
      "outputs": []
    },
    {
      "cell_type": "code",
      "source": [
        "sns.boxplot(data=stocks)"
      ],
      "metadata": {
        "id": "0nH5KDhp6m2c"
      },
      "execution_count": null,
      "outputs": []
    },
    {
      "cell_type": "code",
      "source": [
        "bp = plt.boxplot(x=data)"
      ],
      "metadata": {
        "id": "o45oqEjY7i2K",
        "collapsed": true
      },
      "execution_count": null,
      "outputs": []
    },
    {
      "cell_type": "code",
      "source": [
        "bp['fliers'][0].get_data()[1].shape"
      ],
      "metadata": {
        "id": "hHAcwHR17mr3"
      },
      "execution_count": null,
      "outputs": []
    },
    {
      "cell_type": "code",
      "source": [
        "bp = plt.boxplot(x=stocks)"
      ],
      "metadata": {
        "id": "0oLec_pVPUHY",
        "collapsed": true
      },
      "execution_count": null,
      "outputs": []
    },
    {
      "cell_type": "code",
      "source": [
        "bp['fliers'][0].get_data()[1].shape"
      ],
      "metadata": {
        "id": "XlyKbVEKHf_E"
      },
      "execution_count": null,
      "outputs": []
    },
    {
      "cell_type": "code",
      "source": [
        "bp['fliers'][1].get_data()[1].shape"
      ],
      "metadata": {
        "id": "bUaSdhpoPhaj"
      },
      "execution_count": null,
      "outputs": []
    },
    {
      "cell_type": "code",
      "source": [
        "bp['fliers'][2].get_data()[1].shape"
      ],
      "metadata": {
        "id": "bUemkQ71PeCy"
      },
      "execution_count": null,
      "outputs": []
    },
    {
      "cell_type": "code",
      "source": [],
      "metadata": {
        "id": "Lwo0SbXLG9BL"
      },
      "execution_count": null,
      "outputs": []
    },
    {
      "cell_type": "code",
      "source": [
        "# Obtener los atípicos con IQR\n",
        "np.random.seed(0)\n",
        "data = np.random.randn(50000) * 20 + 20"
      ],
      "metadata": {
        "id": "tdbHhRy8G87M"
      },
      "execution_count": null,
      "outputs": []
    },
    {
      "cell_type": "code",
      "source": [
        "#Q1, Q3 = np.percentile(data, [25, 75])\n",
        "#IQR = Q3-Q1\n",
        "# bigotes (whiskers)\n",
        "#sup =\n",
        "#inf =\n",
        "# anomalías\n",
        "#anom_ind =\n",
        "#anom =\n",
        "#len(anom_ind[0])"
      ],
      "metadata": {
        "id": "sxU-YFbDiFUB"
      },
      "execution_count": null,
      "outputs": []
    },
    {
      "cell_type": "code",
      "source": [],
      "metadata": {
        "id": "NbZf_cVXHQot"
      },
      "execution_count": null,
      "outputs": []
    },
    {
      "cell_type": "code",
      "source": [
        "# EllipticEnvelope:\n",
        "# Basado en covarianza, genera una elipse que \"envuelve\" los datos \"normales\"\n",
        "# y deja fuera losa típicos\n",
        "import numpy as np\n",
        "import matplotlib.pyplot as plt\n",
        "from sklearn.covariance import EllipticEnvelope\n",
        "#cov = np.array([\n",
        "#                ])\n",
        "#X = np.random.RandomState(0).multivariate_normal(mean=,cov=,size=)\n",
        "#ee = EllipticEnvelope(random_state=)\n",
        "#ee.fit(X)\n",
        "# predict regresa 1 para valores normales y -1 para atípicos\n",
        "#anom =\n",
        "#ee.covariance_, ee.location_"
      ],
      "metadata": {
        "id": "AN8sTDygXjuc"
      },
      "execution_count": null,
      "outputs": []
    },
    {
      "cell_type": "code",
      "source": [
        "#plt.scatter(X[:,0],X[:,1],c=anom)"
      ],
      "metadata": {
        "id": "1WEWlA57Xjxk"
      },
      "execution_count": null,
      "outputs": []
    },
    {
      "cell_type": "code",
      "source": [],
      "metadata": {
        "id": "9BOhhrx2J41N"
      },
      "execution_count": null,
      "outputs": []
    },
    {
      "cell_type": "code",
      "source": [
        "# Funciona para datos con múltiples dimensiones"
      ],
      "metadata": {
        "id": "_qYw-y6hXj0v"
      },
      "execution_count": null,
      "outputs": []
    },
    {
      "cell_type": "code",
      "source": [],
      "metadata": {
        "id": "PqtmNf4Azf7h"
      },
      "execution_count": null,
      "outputs": []
    },
    {
      "cell_type": "code",
      "source": [],
      "metadata": {
        "id": "aLnIJuOEXjrC"
      },
      "execution_count": null,
      "outputs": []
    },
    {
      "cell_type": "code",
      "source": [],
      "metadata": {
        "id": "GH19qou9XjoL"
      },
      "execution_count": null,
      "outputs": []
    },
    {
      "cell_type": "code",
      "source": [],
      "metadata": {
        "id": "YO1OdUFRXjlG"
      },
      "execution_count": null,
      "outputs": []
    },
    {
      "cell_type": "code",
      "source": [],
      "metadata": {
        "id": "opuIiWONXjiS"
      },
      "execution_count": null,
      "outputs": []
    },
    {
      "cell_type": "code",
      "source": [],
      "metadata": {
        "id": "ChO-pA5_6kLb"
      },
      "execution_count": null,
      "outputs": []
    },
    {
      "cell_type": "code",
      "source": [],
      "metadata": {
        "id": "BlRUWyNHEESR"
      },
      "execution_count": null,
      "outputs": []
    }
  ]
}